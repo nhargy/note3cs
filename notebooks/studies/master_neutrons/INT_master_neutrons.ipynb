{
 "cells": [
  {
   "cell_type": "markdown",
   "id": "964a5839-3865-4858-813c-0c9bb81b353a",
   "metadata": {},
   "source": [
    "# master_neutrons\n",
    "\n",
    "<br />\n",
    "\n",
    "*Interactive analysis*"
   ]
  },
  {
   "cell_type": "code",
   "execution_count": 1,
   "id": "a8e99ab3-ff39-4913-aba3-ec101e5b981e",
   "metadata": {},
   "outputs": [],
   "source": [
    "# custom analysis tools\n",
    "from analysis.scan import scan\n",
    "from analysis.tools import plot_it\n",
    "from analysis.tools import get_diff\n",
    "from analysis.tools import extract_species\n",
    "\n",
    "# useful python libraries\n",
    "import numpy as np\n",
    "import matplotlib.pyplot as plt\n",
    "import scipy.constants as const\n",
    "from scipy.optimize import curve_fit\n",
    "import pandas as pd\n",
    "\n",
    "# system modules\n",
    "from IPython import get_ipython\n",
    "import os\n",
    "\n",
    "# interactive widgets\n",
    "import ipywidgets as widgets\n",
    "from ipywidgets import interact"
   ]
  },
  {
   "cell_type": "markdown",
   "id": "8a21d607-f35d-48ef-af6c-e69d68490be1",
   "metadata": {},
   "source": [
    "## Data Paths"
   ]
  },
  {
   "cell_type": "code",
   "execution_count": 2,
   "id": "62976701-6976-4091-85e7-deef2da52331",
   "metadata": {},
   "outputs": [],
   "source": [
    "STUDY = 'master_neutrons'\n",
    "\n",
    "# Get the current directory where the Jupyter Notebook is located\n",
    "\n",
    "current_directory = get_ipython().run_line_magic('pwd', '')\n",
    "\n",
    "# Extract the local path to 3CS folder\n",
    "local_path        = current_directory.split('repo_note3cs')[0]\n",
    "\n",
    "# Define path to study within data3cs folder\n",
    "path_to_study     = f'repo_data3cs/data3cs/studies/{STUDY}'\n",
    "\n",
    "# Final path\n",
    "path              = f'{local_path}{path_to_study}'"
   ]
  },
  {
   "cell_type": "markdown",
   "id": "bc074f66-8131-43a0-a13e-78ffc86c7e92",
   "metadata": {},
   "source": [
    "## Data Import and Scan Objects Instantiation"
   ]
  },
  {
   "cell_type": "code",
   "execution_count": 26,
   "id": "e2bb2bcc-9c4e-45a0-8132-389718e3bbf2",
   "metadata": {},
   "outputs": [],
   "source": [
    "# References\n",
    "ZnO                      = extract_species(path, 'ZnO')\n",
    "ZnO_samples        = ['ZnO_B3_500', 'ZnO_B3_501', 'ZnO_B3_502']\n",
    "\n",
    "H2O                      = extract_species(path, 'H2O')\n",
    "H2O_samples       = ['h2o']\n",
    "\n",
    "Qz_wl                    = extract_species(path, 'Qz_wl')\n",
    "Qz_wl_samples     = ['qz_wl']\n",
    "\n",
    "\n",
    "# Irradiation group\n",
    "LiF_irrad                = extract_species(path, 'LiF', ext='irrad') \n",
    "LiF_irrad_samples = ['LiF_B1_131', 'LiF_B2_145', 'LiF_B2_157', 'LiF_B2_158']\n",
    "\n",
    "BaF_irrad                = extract_species(path, 'BaF', ext='irrad') \n",
    "BaF_irrad_samples = ['BaF_B2_181','BaF_B2_183', 'BaF_B2_185', 'BaF_B2_192']\n",
    "\n",
    "Qz_irrad                   = extract_species(path, 'Qz', ext='irrad') \n",
    "Qz_irrad_samples    = ['Qz_B2_063', 'Qz_B2_067', 'Qz_B2_069', 'Qz_B2_072']\n",
    "\n",
    "SP_irrad                   = extract_species(path, 'SP', ext='irrad') \n",
    "SP_irrad_samples     = ['SP4500', 'SP4501', 'SP4502', 'SP4503']\n",
    "\n",
    "# Control group\n",
    "LiF_ctrl                     = extract_species(path, 'LiF', ext='ctrl') \n",
    "LiF_ctrl_samples      = ['LiF_B1_130', 'LiF_B2_143', 'LiF_B2_155']\n",
    "\n",
    "BaF_ctrl                     = extract_species(path, 'BaF', ext='ctrl') \n",
    "BaF_ctrl_samples     = ['BaF_B2_182','BaF_B2_188', 'BaF_B2_193']\n",
    "\n",
    "Qz_ctrl                        = extract_species(path, 'Qz', ext='ctrl') \n",
    "Qz_ctrl_samples         = ['Qz_B2_064', 'Qz_B2_064', 'Qz_B2_071']\n",
    "\n",
    "SP_ctrl                        = extract_species(path, 'SP', ext='ctrl') \n",
    "SP_ctrl_samples         = ['SP4504']"
   ]
  },
  {
   "cell_type": "markdown",
   "id": "120d85ec-82cf-4aeb-b685-3acd84a414ad",
   "metadata": {},
   "source": [
    "## Define Functions"
   ]
  },
  {
   "cell_type": "code",
   "execution_count": 66,
   "id": "307a42f1-f9b1-499f-ae14-8b9939b1be90",
   "metadata": {},
   "outputs": [],
   "source": [
    "# interactivity functions: displays the group data using dropdown menus\n",
    "def show_interactive(group, sample_options, A, B=None, it=0):\n",
    "    \n",
    "    dropdown       = widgets.Dropdown(\n",
    "        options       = sample_options,\n",
    "        description = 'Select sample: ',\n",
    "    )\n",
    "    \n",
    "    @interact(selected_option = dropdown)\n",
    "    def show_sigs(selected_option):\n",
    "    \n",
    "        sample = selected_option; t = '15.0'\n",
    "\n",
    "        if B !=None:\n",
    "        \n",
    "            # A centre\n",
    "        \n",
    "            plt.figure(figsize=(28, 8))\n",
    "            plt.subplot(1, 2, 1)  # 2 rows, 1 column, 1st subplot\n",
    "            \n",
    "            plot_it(group['coll1'][f'{sample}_A'], A, t, label = 'coll1', color='blue', it = it);\n",
    "            plot_it(group['coll2'][f'{sample}_A'], A, t, label = 'coll2', color='red', it = it);\n",
    "            plot_it(group['coll3'][f'{sample}_A'], A, t, label = 'coll3', color='green', it = it);\n",
    "            plt.title(f'{sample} @ {A}nm', fontsize=25)\n",
    "            \n",
    "            \n",
    "            # B centre\n",
    "            plt.subplot(1, 2, 2)  # 2 rows, 1 column, 1st subplot\n",
    "            plot_it(group['coll1'][f'{sample}_B'], B, t, label = 'coll1', color='blue', it = it);\n",
    "            plot_it(group['coll2'][f'{sample}_B'], B, t, label = 'coll2', color='red', it = it);\n",
    "            plot_it(group['coll3'][f'{sample}_B'], B, t, label = 'coll3', color='green', it = it);\n",
    "            plt.title(f'{sample} @ {B}nm', fontsize=25)\n",
    "        \n",
    "            plt.tight_layout() \n",
    "            plt.show()\n",
    "\n",
    "        elif (A != None) and (B == None):\n",
    "            plt.figure(figsize=(18, 8))\n",
    "            plot_it(group['coll1'][f'{sample}_A'], A, t, label = 'coll1', color='blue', it = it);\n",
    "            plot_it(group['coll2'][f'{sample}_A'], A, t, label = 'coll2', color='red', it = it);\n",
    "            plot_it(group['coll3'][f'{sample}_A'], A, t, label = 'coll3', color='green', it = it);\n",
    "            plt.title(f'{sample} @ {A}nm', fontsize=25)\n",
    "\n",
    "        elif (A == None) and (B== None):\n",
    "            plt.figure(figsize=(18, 8))\n",
    "            plot_it(group['coll1'][f'{sample}'], '400', '0.5', label = 'coll1', color='blue', it = it);\n",
    "            plot_it(group['coll2'][f'{sample}'], '400', '0.5', label = 'coll2', color='red', it = it);\n",
    "            plot_it(group['coll3'][f'{sample}'], '400', '0.5', label = 'coll3', color='green', it = it);\n",
    "            plt.title(f'{sample}', fontsize=25)\n",
    "        \n",
    "        return None"
   ]
  },
  {
   "cell_type": "markdown",
   "id": "7c4a0f08-e32f-4ceb-ace8-7c9d470aff15",
   "metadata": {},
   "source": [
    "---\n",
    "\n",
    "# References"
   ]
  },
  {
   "cell_type": "markdown",
   "id": "db5fe699-d6be-4c26-8ac4-54c9f54340bc",
   "metadata": {},
   "source": [
    "## ZnO"
   ]
  },
  {
   "cell_type": "code",
   "execution_count": 67,
   "id": "817af465-739f-4d3e-919e-1317865311d8",
   "metadata": {},
   "outputs": [
    {
     "data": {
      "application/vnd.jupyter.widget-view+json": {
       "model_id": "779c8982c2fe4831ada1f223380ef221",
       "version_major": 2,
       "version_minor": 0
      },
      "text/plain": [
       "interactive(children=(Dropdown(description='Select sample: ', options=('ZnO_B3_500', 'ZnO_B3_501', 'ZnO_B3_502…"
      ]
     },
     "metadata": {},
     "output_type": "display_data"
    }
   ],
   "source": [
    "show_interactive(ZnO, ZnO_samples, A=None)"
   ]
  },
  {
   "cell_type": "markdown",
   "id": "a11983ba-9d13-425e-9f8b-49f4a8e2a8fd",
   "metadata": {},
   "source": [
    "---\n",
    "\n",
    "## Lithium Fluoride"
   ]
  },
  {
   "cell_type": "code",
   "execution_count": 40,
   "id": "b7c4aec4-08a6-46b6-895b-57b71d6e253e",
   "metadata": {},
   "outputs": [
    {
     "data": {
      "application/vnd.jupyter.widget-view+json": {
       "model_id": "8496d83b0e1346ff9dcaf988f7ab7f68",
       "version_major": 2,
       "version_minor": 0
      },
      "text/plain": [
       "interactive(children=(Dropdown(description='Select sample: ', options=('LiF_B1_131', 'LiF_B2_145', 'LiF_B2_157…"
      ]
     },
     "metadata": {},
     "output_type": "display_data"
    }
   ],
   "source": [
    "# irradiation group\n",
    "show_interactive(LiF_irrad, LiF_irrad_samples, '260', '435')"
   ]
  },
  {
   "cell_type": "code",
   "execution_count": 38,
   "id": "455830f1-ac12-4019-9d49-dc1c908be88a",
   "metadata": {},
   "outputs": [
    {
     "data": {
      "application/vnd.jupyter.widget-view+json": {
       "model_id": "4820086335b3480dba5c0b778524cc54",
       "version_major": 2,
       "version_minor": 0
      },
      "text/plain": [
       "interactive(children=(Dropdown(description='Select sample: ', options=('LiF_B1_130', 'LiF_B2_143', 'LiF_B2_155…"
      ]
     },
     "metadata": {},
     "output_type": "display_data"
    }
   ],
   "source": [
    "# control group\n",
    "show_interactive(LiF_ctrl, LiF_ctrl_samples, '260', '435')"
   ]
  },
  {
   "cell_type": "markdown",
   "id": "cd2ab981-7a2d-410d-9167-c35fc50b9b5d",
   "metadata": {},
   "source": [
    "---\n",
    "\n",
    "## Barium Fluoride"
   ]
  },
  {
   "cell_type": "code",
   "execution_count": 54,
   "id": "2345b485-f5e7-4321-9097-dd2fd65a2466",
   "metadata": {},
   "outputs": [
    {
     "data": {
      "application/vnd.jupyter.widget-view+json": {
       "model_id": "eebb8389fead4f69bfe0b899ac1f67db",
       "version_major": 2,
       "version_minor": 0
      },
      "text/plain": [
       "interactive(children=(Dropdown(description='Select sample: ', options=('BaF_B2_181', 'BaF_B2_183', 'BaF_B2_185…"
      ]
     },
     "metadata": {},
     "output_type": "display_data"
    }
   ],
   "source": [
    "# irradiation group\n",
    "show_interactive(BaF_irrad, BaF_irrad_samples, '250', '320')"
   ]
  },
  {
   "cell_type": "code",
   "execution_count": 55,
   "id": "e1ef3847-a84d-49bf-bae9-a50bf0fee04d",
   "metadata": {},
   "outputs": [
    {
     "data": {
      "application/vnd.jupyter.widget-view+json": {
       "model_id": "a602e63a25ff478381bf0e5ed100d19b",
       "version_major": 2,
       "version_minor": 0
      },
      "text/plain": [
       "interactive(children=(Dropdown(description='Select sample: ', options=('BaF_B2_182', 'BaF_B2_188', 'BaF_B2_193…"
      ]
     },
     "metadata": {},
     "output_type": "display_data"
    }
   ],
   "source": [
    "# ctrl group\n",
    "show_interactive(BaF_ctrl, BaF_ctrl_samples, '250', '320')"
   ]
  },
  {
   "cell_type": "markdown",
   "id": "5fd31488-3377-4daf-b25e-f21f1fee8e42",
   "metadata": {},
   "source": [
    "---\n",
    "\n",
    "## Quartz"
   ]
  },
  {
   "cell_type": "code",
   "execution_count": 51,
   "id": "a38c26c7-56ba-45e8-8761-59a877209011",
   "metadata": {},
   "outputs": [
    {
     "data": {
      "application/vnd.jupyter.widget-view+json": {
       "model_id": "c8c25b659e25463f9a9610e1604f6aa6",
       "version_major": 2,
       "version_minor": 0
      },
      "text/plain": [
       "interactive(children=(Dropdown(description='Select sample: ', options=('Qz_B2_063', 'Qz_B2_067', 'Qz_B2_069', …"
      ]
     },
     "metadata": {},
     "output_type": "display_data"
    }
   ],
   "source": [
    "# irradiation group\n",
    "show_interactive(Qz_irrad, Qz_irrad_samples, '250')"
   ]
  },
  {
   "cell_type": "code",
   "execution_count": 56,
   "id": "8202c1cb-2f2b-4660-a1b2-1b5e17166cbd",
   "metadata": {},
   "outputs": [
    {
     "data": {
      "application/vnd.jupyter.widget-view+json": {
       "model_id": "1dea8baa61d44634a013e77fd9b09422",
       "version_major": 2,
       "version_minor": 0
      },
      "text/plain": [
       "interactive(children=(Dropdown(description='Select sample: ', options=('Qz_B2_064', 'Qz_B2_064', 'Qz_B2_071'),…"
      ]
     },
     "metadata": {},
     "output_type": "display_data"
    }
   ],
   "source": [
    "# control group\n",
    "show_interactive(Qz_ctrl, Qz_ctrl_samples, '250')"
   ]
  },
  {
   "cell_type": "markdown",
   "id": "8fe22f1d-91c3-4996-b748-8298489bd580",
   "metadata": {},
   "source": [
    "---\n",
    "\n",
    "## Sapphire"
   ]
  },
  {
   "cell_type": "code",
   "execution_count": 57,
   "id": "645efa67-56dc-47af-b3ff-a0216db61375",
   "metadata": {},
   "outputs": [
    {
     "data": {
      "application/vnd.jupyter.widget-view+json": {
       "model_id": "1dd9978f718441f385f4b92d9b0a344b",
       "version_major": 2,
       "version_minor": 0
      },
      "text/plain": [
       "interactive(children=(Dropdown(description='Select sample: ', options=('SP4500', 'SP4501', 'SP4502', 'SP4503')…"
      ]
     },
     "metadata": {},
     "output_type": "display_data"
    }
   ],
   "source": [
    "# irradiation group\n",
    "show_interactive(SP_irrad, SP_irrad_samples, '250')"
   ]
  },
  {
   "cell_type": "code",
   "execution_count": 58,
   "id": "25815426-f1dc-4d91-9baf-742b60e10044",
   "metadata": {},
   "outputs": [
    {
     "data": {
      "application/vnd.jupyter.widget-view+json": {
       "model_id": "ed865711d1f744ff85f534614f6a751b",
       "version_major": 2,
       "version_minor": 0
      },
      "text/plain": [
       "interactive(children=(Dropdown(description='Select sample: ', options=('SP4504',), value='SP4504'), Output()),…"
      ]
     },
     "metadata": {},
     "output_type": "display_data"
    }
   ],
   "source": [
    "# control group\n",
    "show_interactive(SP_ctrl, SP_ctrl_samples, '250')"
   ]
  },
  {
   "cell_type": "code",
   "execution_count": null,
   "id": "30763ab0-bf87-48f9-a2b0-dd06552634eb",
   "metadata": {},
   "outputs": [],
   "source": []
  }
 ],
 "metadata": {
  "kernelspec": {
   "display_name": "Python 3 (ipykernel)",
   "language": "python",
   "name": "python3"
  },
  "language_info": {
   "codemirror_mode": {
    "name": "ipython",
    "version": 3
   },
   "file_extension": ".py",
   "mimetype": "text/x-python",
   "name": "python",
   "nbconvert_exporter": "python",
   "pygments_lexer": "ipython3",
   "version": "3.10.12"
  }
 },
 "nbformat": 4,
 "nbformat_minor": 5
}
