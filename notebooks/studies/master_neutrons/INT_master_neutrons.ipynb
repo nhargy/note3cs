{
 "cells": [
  {
   "cell_type": "markdown",
   "id": "964a5839-3865-4858-813c-0c9bb81b353a",
   "metadata": {},
   "source": [
    "# master_neutrons\n",
    "\n",
    "<br />\n",
    "\n",
    "*Interactive analysis*"
   ]
  },
  {
   "cell_type": "markdown",
   "id": "80143c83-7999-4620-b6aa-d3188b40178f",
   "metadata": {},
   "source": [
    "## Imports"
   ]
  },
  {
   "cell_type": "code",
   "execution_count": 2,
   "id": "a8e99ab3-ff39-4913-aba3-ec101e5b981e",
   "metadata": {
    "editable": true,
    "slideshow": {
     "slide_type": ""
    },
    "tags": []
   },
   "outputs": [],
   "source": [
    "# custom analysis tools\n",
    "from analysis.scan import scan\n",
    "from analysis.tools import plot_it\n",
    "from analysis.tools import get_diff\n",
    "from analysis.tools import extract_species\n",
    "\n",
    "# useful python libraries\n",
    "import numpy as np\n",
    "import matplotlib.pyplot as plt\n",
    "import scipy.constants as const\n",
    "from scipy.optimize import curve_fit\n",
    "import pandas as pd\n",
    "\n",
    "# system modules\n",
    "from IPython import get_ipython\n",
    "import os\n",
    "\n",
    "# interactive widgets\n",
    "import ipywidgets as widgets\n",
    "from ipywidgets import interact"
   ]
  },
  {
   "cell_type": "markdown",
   "id": "8a21d607-f35d-48ef-af6c-e69d68490be1",
   "metadata": {},
   "source": [
    "## Data Paths"
   ]
  },
  {
   "cell_type": "code",
   "execution_count": 3,
   "id": "62976701-6976-4091-85e7-deef2da52331",
   "metadata": {
    "editable": true,
    "slideshow": {
     "slide_type": ""
    },
    "tags": []
   },
   "outputs": [],
   "source": [
    "STUDY = 'master_neutrons'\n",
    "\n",
    "# Get the current directory where the Jupyter Notebook is located\n",
    "\n",
    "current_directory = get_ipython().run_line_magic('pwd', '')\n",
    "\n",
    "# Extract the local path to 3CS folder\n",
    "local_path        = current_directory.split('repo_note3cs')[0]\n",
    "\n",
    "# Define path to study within data3cs folder\n",
    "path_to_study     = f'repo_data3cs/data3cs/studies/{STUDY}'\n",
    "\n",
    "# Final path\n",
    "path              = f'{local_path}{path_to_study}'"
   ]
  },
  {
   "cell_type": "markdown",
   "id": "bc074f66-8131-43a0-a13e-78ffc86c7e92",
   "metadata": {},
   "source": [
    "## Data Import and Scan Objects Instantiation"
   ]
  },
  {
   "cell_type": "code",
   "execution_count": 4,
   "id": "e2bb2bcc-9c4e-45a0-8132-389718e3bbf2",
   "metadata": {
    "editable": true,
    "slideshow": {
     "slide_type": ""
    },
    "tags": []
   },
   "outputs": [],
   "source": [
    "# References\n",
    "ZnO                      = extract_species(path, 'ZnO')\n",
    "ZnO_samples        = ['ZnO_B3_500', 'ZnO_B3_501', 'ZnO_B3_502']\n",
    "ZnO_pr                 = {'400' : 12.08}\n",
    "\n",
    "h2o                      = extract_species(path, 'H2O')\n",
    "h2o_samples       = ['h2o']\n",
    "h2o_pr                 = {'420' : 11.87}\n",
    "\n",
    "Qz_wl                    = extract_species(path, 'Qz_wl')\n",
    "Qz_wl_samples      = ['qz_wl']\n",
    "Qz_wl_pr               = {'300': 13.14 , '350' :  12.12, '400' : 12.08 , '450' : 11.57 , '500' : 10.96, '550' : 10.52, '600' : 9.99}\n",
    "\n",
    "\n",
    "# Irradiation group\n",
    "LiF_irrad                = extract_species(path, 'LiF', ext='irrad') \n",
    "LiF_irrad_samples = ['LiF_B1_131', 'LiF_B2_145', 'LiF_B2_157', 'LiF_B2_158']\n",
    "LiF_irrad_pr            = {'260' : 12.7, '435' : 11.7}\n",
    "\n",
    "BaF_irrad                = extract_species(path, 'BaF', ext='irrad') \n",
    "BaF_irrad_samples = ['BaF_B2_181','BaF_B2_183', 'BaF_B2_185', 'BaF_B2_192']\n",
    "BaF_irrad_pr           = {'250' : 12.2, '320' : 13}\n",
    "\n",
    "Qz_irrad                   = extract_species(path, 'Qz', ext='irrad') \n",
    "Qz_irrad_samples    = ['Qz_B2_063', 'Qz_B2_067', 'Qz_B2_069', 'Qz_B2_072']\n",
    "Qz_irrad_pr              = {'250' : 12.2}\n",
    "\n",
    "SP_irrad                   = extract_species(path, 'SP', ext='irrad') \n",
    "SP_irrad_samples     = ['SP4500', 'SP4501', 'SP4502', 'SP4503']\n",
    "SP_irrad_pr               = {'250' : 12.2}\n",
    "\n",
    "# Control group\n",
    "LiF_ctrl                     = extract_species(path, 'LiF', ext='ctrl') \n",
    "LiF_ctrl_samples      = ['LiF_B1_130', 'LiF_B2_143', 'LiF_B2_155']\n",
    "LiF_ctrl_pr                = {'260' : 12.7, '435' : 11.7}\n",
    "\n",
    "BaF_ctrl                     = extract_species(path, 'BaF', ext='ctrl') \n",
    "BaF_ctrl_samples     = ['BaF_B2_182','BaF_B2_188', 'BaF_B2_193']\n",
    "BaF_ctrl_pr                = {'250' : 12.2, '320' : 13}\n",
    "\n",
    "Qz_ctrl                        = extract_species(path, 'Qz', ext='ctrl') \n",
    "Qz_ctrl_samples         = ['Qz_B2_064', 'Qz_B2_064', 'Qz_B2_071']\n",
    "Qz_ctrl_pr                  = {'250' : 12.2}\n",
    "\n",
    "SP_ctrl                        = extract_species(path, 'SP', ext='ctrl') \n",
    "SP_ctrl_samples         = ['SP4504']\n",
    "SP_ctrl_pr               = {'250' : 12.2}"
   ]
  },
  {
   "cell_type": "markdown",
   "id": "120d85ec-82cf-4aeb-b685-3acd84a414ad",
   "metadata": {},
   "source": [
    "## Define Functions"
   ]
  },
  {
   "cell_type": "code",
   "execution_count": 5,
   "id": "15a0a7fb-ecdf-493d-949a-c42dc4eb225f",
   "metadata": {},
   "outputs": [],
   "source": [
    "def display_interactive(group, wl, t = '15.0', it = 0, ylim = None):\n",
    "\n",
    "    colour_series = ['blue', 'darkred', 'green', 'orange', 'purple', 'pink']\n",
    "    \n",
    "    # extract relevant data from 'data import and scan objects instantiation' block\n",
    "    grp                 = globals()[group]\n",
    "    grp_samples  = globals()[f'{group}_samples']\n",
    "    grp_pr            = globals()[f'{group}_pr']\n",
    "\n",
    "    dropdown       = widgets.Dropdown(\n",
    "    options          = grp_samples,\n",
    "    description   = 'Sample:',\n",
    "    )\n",
    "\n",
    "    @interact(selected_option = dropdown)\n",
    "    def show_sigs(selected_option):\n",
    "\n",
    "        plt.rcParams['figure.figsize'] = 18,8\n",
    "        \n",
    "        sample = selected_option;\n",
    "\n",
    "        # cycle thorugh collections and plot\n",
    "        count = 0\n",
    "        for coll in grp:\n",
    "            pr = grp_pr[wl]\n",
    "            \n",
    "            try:\n",
    "                plot_it(grp[coll][f'{sample}_A'], wl, t, label = coll, it = it, power_ratio = pr, color = colour_series[count]);\n",
    "            except:\n",
    "                pass\n",
    "\n",
    "            try:\n",
    "                plot_it(grp[coll][f'{sample}_B'], wl, t, label = coll, it = it, power_ratio = pr, color = colour_series[count]);\n",
    "            except:\n",
    "                pass\n",
    "\n",
    "            try:\n",
    "                plot_it(grp[coll][f'{sample}'], wl, t, label = coll, it = it, power_ratio = pr, color = colour_series[count]);\n",
    "            except:\n",
    "                pass\n",
    "            \n",
    "            count+=1\n",
    "\n",
    "        if ylim != None:\n",
    "            plt.ylim(ylim[0], ylim[1])\n",
    "        plt.title(f'{sample} @ {wl}nm', fontsize=25)\n",
    "                \n",
    "            \n",
    "    return None"
   ]
  },
  {
   "cell_type": "markdown",
   "id": "7c4a0f08-e32f-4ceb-ace8-7c9d470aff15",
   "metadata": {},
   "source": [
    "---\n",
    "\n",
    "# References"
   ]
  },
  {
   "cell_type": "markdown",
   "id": "db5fe699-d6be-4c26-8ac4-54c9f54340bc",
   "metadata": {},
   "source": [
    "## ZnO"
   ]
  },
  {
   "cell_type": "code",
   "execution_count": 5,
   "id": "908ee3f0-0b8d-4b18-ac4f-b688e0cb27d1",
   "metadata": {},
   "outputs": [
    {
     "data": {
      "application/vnd.jupyter.widget-view+json": {
       "model_id": "45d8e20a4904462c864a4beb4311cf38",
       "version_major": 2,
       "version_minor": 0
      },
      "text/plain": [
       "interactive(children=(Dropdown(description='Sample:', options=('ZnO_B3_500', 'ZnO_B3_501', 'ZnO_B3_502'), valu…"
      ]
     },
     "metadata": {},
     "output_type": "display_data"
    }
   ],
   "source": [
    "display_interactive('ZnO', '400', t = '0.5', it = 0, ylim = [-0.1,400])"
   ]
  },
  {
   "cell_type": "markdown",
   "id": "e2f6eebc-8a78-49f4-a69c-8bd67e52b3b0",
   "metadata": {},
   "source": [
    "## Qz_wl"
   ]
  },
  {
   "cell_type": "code",
   "execution_count": 9,
   "id": "26ee11f7-428a-4efd-ab90-56e7d8346a55",
   "metadata": {},
   "outputs": [
    {
     "data": {
      "application/vnd.jupyter.widget-view+json": {
       "model_id": "6482e8ac18b84da4b23296c775e0db59",
       "version_major": 2,
       "version_minor": 0
      },
      "text/plain": [
       "interactive(children=(Dropdown(description='Sample:', options=('qz_wl',), value='qz_wl'), Output()), _dom_clas…"
      ]
     },
     "metadata": {},
     "output_type": "display_data"
    }
   ],
   "source": [
    "display_interactive('Qz_wl', '300', t = '1.0', it = 0, ylim = [-0.1,250])"
   ]
  },
  {
   "cell_type": "markdown",
   "id": "3721b38b-348d-43a7-b526-d37d357aebfd",
   "metadata": {},
   "source": [
    "## H2O"
   ]
  },
  {
   "cell_type": "code",
   "execution_count": 7,
   "id": "0d0aa926-37e3-4ddd-a9e4-a89b31b99e60",
   "metadata": {},
   "outputs": [
    {
     "data": {
      "application/vnd.jupyter.widget-view+json": {
       "model_id": "1f24157ae7ea4a74bd87d26d0f1ca6be",
       "version_major": 2,
       "version_minor": 0
      },
      "text/plain": [
       "interactive(children=(Dropdown(description='Sample:', options=('h2o',), value='h2o'), Output()), _dom_classes=…"
      ]
     },
     "metadata": {},
     "output_type": "display_data"
    }
   ],
   "source": [
    "display_interactive('h2o', '420', t = '10.0', it = 0)"
   ]
  },
  {
   "cell_type": "markdown",
   "id": "125ced56-20d3-49ab-9eff-b5d5cb71c424",
   "metadata": {},
   "source": [
    "---\n",
    "\n",
    "# Samples"
   ]
  },
  {
   "cell_type": "markdown",
   "id": "aaed1930-4ffc-42db-aaff-b535b05b5bce",
   "metadata": {},
   "source": [
    "---\n",
    "\n",
    "## Lithium Fluoride"
   ]
  },
  {
   "cell_type": "markdown",
   "id": "4101b7b3-8c1b-4e16-bc6a-cc5adf546d13",
   "metadata": {},
   "source": [
    "### Irradiation Group"
   ]
  },
  {
   "cell_type": "code",
   "execution_count": 6,
   "id": "c786f8e5-6042-48e4-b911-1c4cd530acc9",
   "metadata": {},
   "outputs": [
    {
     "data": {
      "application/vnd.jupyter.widget-view+json": {
       "model_id": "7f7b13a5eca64a3d8579dfc3763505ea",
       "version_major": 2,
       "version_minor": 0
      },
      "text/plain": [
       "interactive(children=(Dropdown(description='Sample:', options=('LiF_B1_131', 'LiF_B2_145', 'LiF_B2_157', 'LiF_…"
      ]
     },
     "metadata": {},
     "output_type": "display_data"
    },
    {
     "data": {
      "application/vnd.jupyter.widget-view+json": {
       "model_id": "b042540a5a47404bbd33c157735734a7",
       "version_major": 2,
       "version_minor": 0
      },
      "text/plain": [
       "interactive(children=(Dropdown(description='Sample:', options=('LiF_B1_131', 'LiF_B2_145', 'LiF_B2_157', 'LiF_…"
      ]
     },
     "metadata": {},
     "output_type": "display_data"
    }
   ],
   "source": [
    "display_interactive('LiF_irrad', '260', t = '15.0', it = 0, ylim = [-0.1,1.5])\n",
    "display_interactive('LiF_irrad', '435', t = '15.0', it = 0, ylim = [-0.1,1.5])"
   ]
  },
  {
   "cell_type": "markdown",
   "id": "15fc8438-18b6-43ba-b501-dd0949dca95b",
   "metadata": {},
   "source": [
    "### Control Group"
   ]
  },
  {
   "cell_type": "code",
   "execution_count": 11,
   "id": "cc065577-9ef1-4d60-88bd-0c7e93a9b65a",
   "metadata": {},
   "outputs": [
    {
     "data": {
      "application/vnd.jupyter.widget-view+json": {
       "model_id": "e00ae752ee3c4c42bef2a99e5fc825e1",
       "version_major": 2,
       "version_minor": 0
      },
      "text/plain": [
       "interactive(children=(Dropdown(description='Sample:', options=('LiF_B1_130', 'LiF_B2_143', 'LiF_B2_155'), valu…"
      ]
     },
     "metadata": {},
     "output_type": "display_data"
    },
    {
     "data": {
      "application/vnd.jupyter.widget-view+json": {
       "model_id": "b20ace8981fa4c2fb0377776831177f6",
       "version_major": 2,
       "version_minor": 0
      },
      "text/plain": [
       "interactive(children=(Dropdown(description='Sample:', options=('LiF_B1_130', 'LiF_B2_143', 'LiF_B2_155'), valu…"
      ]
     },
     "metadata": {},
     "output_type": "display_data"
    }
   ],
   "source": [
    "display_interactive('LiF_ctrl', '260', t = '15.0', it = 0, ylim = [-0.1,1.5])\n",
    "display_interactive('LiF_ctrl', '435', t = '15.0', it = 0, ylim = [-0.1,1.5])"
   ]
  },
  {
   "cell_type": "markdown",
   "id": "cd2ab981-7a2d-410d-9167-c35fc50b9b5d",
   "metadata": {},
   "source": [
    "---\n",
    "\n",
    "## Barium Fluoride"
   ]
  },
  {
   "cell_type": "markdown",
   "id": "7e4922cb-334c-4444-be0b-f240469f91f9",
   "metadata": {},
   "source": [
    "### Irradiation Group"
   ]
  },
  {
   "cell_type": "code",
   "execution_count": 12,
   "id": "0746a848-67b2-44e4-b15a-5ff8ea182916",
   "metadata": {},
   "outputs": [
    {
     "data": {
      "application/vnd.jupyter.widget-view+json": {
       "model_id": "63a91b74cd1045ef8ba88f14894ab477",
       "version_major": 2,
       "version_minor": 0
      },
      "text/plain": [
       "interactive(children=(Dropdown(description='Sample:', options=('BaF_B2_181', 'BaF_B2_183', 'BaF_B2_185', 'BaF_…"
      ]
     },
     "metadata": {},
     "output_type": "display_data"
    },
    {
     "data": {
      "application/vnd.jupyter.widget-view+json": {
       "model_id": "e5c4c50eb8e3482f93755d74da8e9571",
       "version_major": 2,
       "version_minor": 0
      },
      "text/plain": [
       "interactive(children=(Dropdown(description='Sample:', options=('BaF_B2_181', 'BaF_B2_183', 'BaF_B2_185', 'BaF_…"
      ]
     },
     "metadata": {},
     "output_type": "display_data"
    }
   ],
   "source": [
    "display_interactive('BaF_irrad', '250', t = '15.0', it = 0, ylim = [-0.1,1.5])\n",
    "display_interactive('BaF_irrad', '320', t = '15.0', it = 0, ylim = [-0.1,1.5])"
   ]
  },
  {
   "cell_type": "markdown",
   "id": "41c3a4eb-d03f-44fd-922a-1cd75f5349f6",
   "metadata": {},
   "source": [
    "### Control Group"
   ]
  },
  {
   "cell_type": "code",
   "execution_count": 18,
   "id": "c85a1369-1527-4922-8b8d-674637cb2f90",
   "metadata": {
    "scrolled": true
   },
   "outputs": [
    {
     "data": {
      "application/vnd.jupyter.widget-view+json": {
       "model_id": "77a6bcac2d47436ea449d6598fe203c9",
       "version_major": 2,
       "version_minor": 0
      },
      "text/plain": [
       "interactive(children=(Dropdown(description='Sample:', options=('BaF_B2_182', 'BaF_B2_188', 'BaF_B2_193'), valu…"
      ]
     },
     "metadata": {},
     "output_type": "display_data"
    },
    {
     "data": {
      "application/vnd.jupyter.widget-view+json": {
       "model_id": "d013c7a86c6f4b5596f1f1ee8f4af8d4",
       "version_major": 2,
       "version_minor": 0
      },
      "text/plain": [
       "interactive(children=(Dropdown(description='Sample:', options=('BaF_B2_182', 'BaF_B2_188', 'BaF_B2_193'), valu…"
      ]
     },
     "metadata": {},
     "output_type": "display_data"
    }
   ],
   "source": [
    "display_interactive('BaF_ctrl', '250', t = '15.0', it = 0, ylim = [-0.1,1.5])\n",
    "display_interactive('BaF_ctrl', '320', t = '15.0', it = 0, ylim = [-0.1,1.5])"
   ]
  },
  {
   "cell_type": "markdown",
   "id": "5fd31488-3377-4daf-b25e-f21f1fee8e42",
   "metadata": {},
   "source": [
    "---\n",
    "\n",
    "## Quartz"
   ]
  },
  {
   "cell_type": "markdown",
   "id": "b920ed4d-3615-405a-a962-9c5509f885c7",
   "metadata": {},
   "source": [
    "### Irradiation Group"
   ]
  },
  {
   "cell_type": "code",
   "execution_count": 6,
   "id": "d5b0e4a7-179c-4cea-860c-accdd3c0f72d",
   "metadata": {},
   "outputs": [
    {
     "data": {
      "application/vnd.jupyter.widget-view+json": {
       "model_id": "69712ddfa363449ba26e8894b5bfaac7",
       "version_major": 2,
       "version_minor": 0
      },
      "text/plain": [
       "interactive(children=(Dropdown(description='Sample:', options=('Qz_B2_063', 'Qz_B2_067', 'Qz_B2_069', 'Qz_B2_0…"
      ]
     },
     "metadata": {},
     "output_type": "display_data"
    }
   ],
   "source": [
    "display_interactive('Qz_irrad', '250', t = '15.0', it = 0, ylim = [-0.1,1.5])"
   ]
  },
  {
   "cell_type": "markdown",
   "id": "f08b8806-7a74-42a2-9031-7d4cb3b9de65",
   "metadata": {},
   "source": [
    "### Control Group"
   ]
  },
  {
   "cell_type": "code",
   "execution_count": 16,
   "id": "d31427ef-9722-41e1-8750-7e574d39e647",
   "metadata": {},
   "outputs": [
    {
     "data": {
      "application/vnd.jupyter.widget-view+json": {
       "model_id": "1a4e47dae4c94e10bd00aff3409673b6",
       "version_major": 2,
       "version_minor": 0
      },
      "text/plain": [
       "interactive(children=(Dropdown(description='Sample:', options=('Qz_B2_064', 'Qz_B2_064', 'Qz_B2_071'), value='…"
      ]
     },
     "metadata": {},
     "output_type": "display_data"
    }
   ],
   "source": [
    "display_interactive('Qz_ctrl', '250', t = '15.0', it = 0, ylim = [-0.1,1.5])"
   ]
  },
  {
   "cell_type": "markdown",
   "id": "8fe22f1d-91c3-4996-b748-8298489bd580",
   "metadata": {},
   "source": [
    "---\n",
    "\n",
    "## Sapphire"
   ]
  },
  {
   "cell_type": "markdown",
   "id": "fe044626-3499-42d8-a341-d466bd038974",
   "metadata": {},
   "source": [
    "### Irradiation Group"
   ]
  },
  {
   "cell_type": "code",
   "execution_count": 17,
   "id": "3edfaa41-5808-4a29-bd13-61ce1c0f1add",
   "metadata": {},
   "outputs": [
    {
     "data": {
      "application/vnd.jupyter.widget-view+json": {
       "model_id": "5016754e78fe43058b3b4a180b483dad",
       "version_major": 2,
       "version_minor": 0
      },
      "text/plain": [
       "interactive(children=(Dropdown(description='Sample:', options=('SP4500', 'SP4501', 'SP4502', 'SP4503'), value=…"
      ]
     },
     "metadata": {},
     "output_type": "display_data"
    }
   ],
   "source": [
    "display_interactive('SP_irrad', '250', t = '15.0', it = 0, ylim = [-0.1,1.5])"
   ]
  },
  {
   "cell_type": "markdown",
   "id": "f351040b-583a-4592-924e-31008a8aaeec",
   "metadata": {},
   "source": [
    "### Control Group"
   ]
  },
  {
   "cell_type": "code",
   "execution_count": 26,
   "id": "6905ad2d-1106-4f87-8188-cfabc60539c9",
   "metadata": {},
   "outputs": [
    {
     "data": {
      "application/vnd.jupyter.widget-view+json": {
       "model_id": "a1fe2abb016b49a7b7d3629b50e9bedc",
       "version_major": 2,
       "version_minor": 0
      },
      "text/plain": [
       "interactive(children=(Dropdown(description='Sample:', options=('SP4504',), value='SP4504'), Output()), _dom_cl…"
      ]
     },
     "metadata": {},
     "output_type": "display_data"
    }
   ],
   "source": [
    "display_interactive('SP_ctrl', '250', t = '15.0', it = 0, ylim = [-0.1,1.5])"
   ]
  },
  {
   "cell_type": "code",
   "execution_count": null,
   "id": "eae4624f-74ab-426b-b09c-23a7c4c7936b",
   "metadata": {},
   "outputs": [],
   "source": []
  }
 ],
 "metadata": {
  "kernelspec": {
   "display_name": "Python 3 (ipykernel)",
   "language": "python",
   "name": "python3"
  },
  "language_info": {
   "codemirror_mode": {
    "name": "ipython",
    "version": 3
   },
   "file_extension": ".py",
   "mimetype": "text/x-python",
   "name": "python",
   "nbconvert_exporter": "python",
   "pygments_lexer": "ipython3",
   "version": "3.10.12"
  }
 },
 "nbformat": 4,
 "nbformat_minor": 5
}
