{
 "cells": [
  {
   "cell_type": "code",
   "execution_count": null,
   "id": "8c4f24f5-7fa4-42ea-9e7e-2222d275418e",
   "metadata": {},
   "outputs": [],
   "source": [
    "import numpy as np\n",
    "import matplotlib.pyplot as plt\n",
    "power_0=np.load('/home/mahmoud/Documents/3CS/repo_data3cs/data3cs/studies/master_neutrons/power_0.npy',allow_pickle=True)\n",
    "power_1=np.load('/home/mahmoud/Documents/3CS/repo_data3cs/data3cs/studies/master_neutrons/power_1.npy',allow_pickle=True)\n",
    "###################\n",
    "p0_gr0=power_0[0]\n",
    "p0_gr1=power_0[1]\n",
    "p0_wl=power_0[2]\n",
    "p1_gr0=power_1[0]\n",
    "p1_gr1=power_1[1]\n",
    "p1_wl=power_1[2]\n",
    "R_p0_gr0=[i / j for i, j in zip(p0_gr0[0], p0_gr0[1])]\n",
    "R_p0_gr1=[i / j for i, j in zip(p0_gr1[0],p0_gr1[1])] \n",
    "R_p1_gr0=[i / j for i, j in zip(p1_gr0[0],p1_gr0[1])]\n",
    "R_p1_gr1=[i / j for i, j in zip(p1_gr1[0],p1_gr1[1])] \n",
    "##########################\n",
    "plt.plot(p0_wl,p0_gr0[0],p0_wl,p0_gr0[1],p0_wl,p0_gr1[0],p0_wl,p0_gr1[1],p1_wl,p1_gr0[0],p1_wl,p1_gr0[1],p1_wl,p1_gr1[0],p1_wl,p1_gr1[1])\n",
    "plt.legend(['First measurment grid 0 from a pm','First measurment grid 0 from b pm','First measurment grid 1 from a pm','First measurment grid 1 from b pm','Second measurment grid 0 from a pm','Second measurment grid 0 from b pm','Second measurment grid 1 from a pm','Second measurment grid 1 from b pm'])\n",
    "plt.show()\n",
    "########################\n",
    "plt.plot(p0_wl,R_p0_gr0,p0_wl,R_p0_gr1,p1_wl,R_p1_gr0,p1_wl,R_p1_gr1)\n",
    "plt.legend(['First meas gr0 ratio','First meas gr1 ratio','Second meas gr0 ratio','Second meas gr1 ratio'])\n",
    "plt.show()"
   ]
  },
  {
   "cell_type": "code",
   "execution_count": null,
   "id": "2b52ec14-da5e-4ee8-a4e9-e5d2c489171c",
   "metadata": {},
   "outputs": [],
   "source": [
    "A=np.array([[2,2],[1,4]])*1e6\n",
    "p0_gr0=power_0[0]\n",
    "print(p0_gr0)"
   ]
  },
  {
   "cell_type": "code",
   "execution_count": null,
   "id": "e0e258b8-9c6b-48a4-9e4f-575538f68a2d",
   "metadata": {},
   "outputs": [],
   "source": []
  }
 ],
 "metadata": {
  "kernelspec": {
   "display_name": "Python 3 (ipykernel)",
   "language": "python",
   "name": "python3"
  },
  "language_info": {
   "codemirror_mode": {
    "name": "ipython",
    "version": 3
   },
   "file_extension": ".py",
   "mimetype": "text/x-python",
   "name": "python",
   "nbconvert_exporter": "python",
   "pygments_lexer": "ipython3",
   "version": "3.10.12"
  }
 },
 "nbformat": 4,
 "nbformat_minor": 5
}
