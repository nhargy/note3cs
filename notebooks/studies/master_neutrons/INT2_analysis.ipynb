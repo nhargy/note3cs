{
 "cells": [
  {
   "cell_type": "markdown",
   "id": "299f7bac-8c6b-4977-8257-e0416c432e5b",
   "metadata": {},
   "source": [
    "# master_neutrons INTERACTIVE visualisation\n",
    "\n",
    "<br />"
   ]
  },
  {
   "cell_type": "code",
   "execution_count": 1,
   "id": "6556f8b1-baee-4b9b-a784-0980a3866a6c",
   "metadata": {},
   "outputs": [],
   "source": [
    "# custom analysis tools\n",
    "from analysis.scan import scan\n",
    "from analysis.tools import plot_it\n",
    "from analysis.tools import get_diff\n",
    "from analysis.tools import extract_species\n",
    "\n",
    "# useful python libraries\n",
    "import numpy as np\n",
    "import matplotlib.pyplot as plt\n",
    "import scipy.constants as const\n",
    "from scipy.optimize import curve_fit\n",
    "import pandas as pd\n",
    "\n",
    "# system modules\n",
    "from IPython import get_ipython\n",
    "import os\n",
    "\n",
    "# interactive widgets\n",
    "import ipywidgets as widgets\n",
    "from ipywidgets import interact"
   ]
  },
  {
   "cell_type": "markdown",
   "id": "0217c034-1355-4402-a320-13adac76016b",
   "metadata": {},
   "source": [
    "# Data Paths"
   ]
  },
  {
   "cell_type": "code",
   "execution_count": 2,
   "id": "1559b84d-8e62-4a34-b192-7f3255953893",
   "metadata": {},
   "outputs": [],
   "source": [
    "STUDY = 'master_neutrons'\n",
    "\n",
    "# Get the current directory where the Jupyter Notebook is located\n",
    "\n",
    "current_directory = get_ipython().run_line_magic('pwd', '')\n",
    "\n",
    "# Extract the local path to 3CS folder\n",
    "local_path        = current_directory.split('repo_note3cs')[0]\n",
    "\n",
    "# Define path to study within data3cs folder\n",
    "path_to_study     = f'repo_data3cs/data3cs/studies/{STUDY}'\n",
    "\n",
    "# Final path\n",
    "path              = f'{local_path}{path_to_study}'\n",
    "\n"
   ]
  },
  {
   "cell_type": "markdown",
   "id": "a8d622d6-5ba5-4eaf-a703-8c03540e3b23",
   "metadata": {},
   "source": [
    "# Data Import and Scan Objects Instantiation"
   ]
  },
  {
   "cell_type": "code",
   "execution_count": 3,
   "id": "b59384cc-fa40-4a61-884c-a018e125ee26",
   "metadata": {},
   "outputs": [],
   "source": [
    "# References\n",
    "ZnO                      = extract_species(path, 'ZnO')\n",
    "ZnO_samples        = ['ZnO_B3_500', 'ZnO_B3_501', 'ZnO_B3_502']\n",
    "\n",
    "H2O                      = extract_species(path, 'H2O')\n",
    "H2O_samples       = ['h2o']\n",
    "\n",
    "Qz_wl                    = extract_species(path, 'Qz_wl')\n",
    "Qz_wl_samples     = ['qz_wl']\n",
    "\n",
    "\n",
    "# Irradiation group\n",
    "LiF_irrad                = extract_species(path, 'LiF', ext='irrad') \n",
    "LiF_irrad_samples = ['LiF_B1_131', 'LiF_B2_145', 'LiF_B2_157', 'LiF_B2_158']\n",
    "\n",
    "BaF_irrad                = extract_species(path, 'BaF', ext='irrad') \n",
    "BaF_irrad_samples = ['BaF_B2_181','BaF_B2_183', 'BaF_B2_185', 'BaF_B2_192']\n",
    "\n",
    "Qz_irrad                   = extract_species(path, 'Qz', ext='irrad') \n",
    "Qz_irrad_samples    = ['Qz_B2_063', 'Qz_B2_067', 'Qz_B2_069', 'Qz_B2_072']\n",
    "\n",
    "SP_irrad                   = extract_species(path, 'SP', ext='irrad') \n",
    "SP_irrad_samples     = ['SP4500', 'SP4501', 'SP4502', 'SP4503']\n",
    "\n",
    "# Control group\n",
    "LiF_ctrl                     = extract_species(path, 'LiF', ext='ctrl') \n",
    "LiF_ctrl_samples      = ['LiF_B1_130', 'LiF_B2_143', 'LiF_B2_155']\n",
    "\n",
    "BaF_ctrl                     = extract_species(path, 'BaF', ext='ctrl') \n",
    "BaF_ctrl_samples     = ['BaF_B2_182','BaF_B2_188', 'BaF_B2_193']\n",
    "\n",
    "Qz_ctrl                        = extract_species(path, 'Qz', ext='ctrl') \n",
    "Qz_ctrl_samples         = ['Qz_B2_064', 'Qz_B2_064', 'Qz_B2_071']\n",
    "\n",
    "SP_ctrl                        = extract_species(path, 'SP', ext='ctrl') \n",
    "SP_ctrl_samples         = ['SP4504']"
   ]
  },
  {
   "cell_type": "markdown",
   "id": "83d04326-1585-447a-a074-eb443c6a7198",
   "metadata": {},
   "source": [
    "# Define Functions"
   ]
  },
  {
   "cell_type": "code",
   "execution_count": 42,
   "id": "4d2a59ed-aaba-4610-b1af-116168894c78",
   "metadata": {},
   "outputs": [],
   "source": [
    "def grid_it():\n",
    "    plt.grid(True, which='both', linestyle='-', linewidth=0.75, color='black')\n",
    "    plt.minorticks_on()\n",
    "    plt.grid(visible=True, which='minor', color='black', linestyle='--', linewidth=0.4) \n",
    "\n",
    "# interactivity functions: displays the group data using dropdown menus\n",
    "def show_interactive(group, sample_options, A, B=None, it=0):\n",
    "    \n",
    "    dropdown       = widgets.Dropdown(\n",
    "        options       = sample_options,\n",
    "        description = 'Select sample: ',\n",
    "    )\n",
    "    \n",
    "    @interact(selected_option = dropdown)\n",
    "    def show_sigs(selected_option):\n",
    "    \n",
    "        sample = selected_option; t = '15.0'\n",
    "\n",
    "        if B !=None:\n",
    "        \n",
    "            # A centre\n",
    "        \n",
    "            plt.figure(figsize=(28, 8))\n",
    "            plt.subplot(1, 2, 1)  # 2 rows, 1 column, 1st subplot\n",
    "            \n",
    "            plot_it(group['coll1'][f'{sample}_A'], A, t, label = 'coll1', color='blue', it = it);\n",
    "            plot_it(group['coll2'][f'{sample}_A'], A, t, label = 'coll2', color='red', it = it);\n",
    "            plot_it(group['coll3'][f'{sample}_A'], A, t, label = 'coll3', color='green', it = it);\n",
    "            plt.title(f'{sample} @ {A}nm', fontsize=25)\n",
    "            \n",
    "            \n",
    "            # B centre\n",
    "            plt.subplot(1, 2, 2)  # 2 rows, 1 column, 1st subplot\n",
    "            plot_it(group['coll1'][f'{sample}_B'], B, t, label = 'coll1', color='blue', it = it);\n",
    "            plot_it(group['coll2'][f'{sample}_B'], B, t, label = 'coll2', color='red', it = it);\n",
    "            plot_it(group['coll3'][f'{sample}_B'], B, t, label = 'coll3', color='green', it = it);\n",
    "            plt.title(f'{sample} @ {B}nm', fontsize=25)\n",
    "        \n",
    "            plt.tight_layout() \n",
    "            plt.show()\n",
    "\n",
    "        elif (A != None) and (B == None):\n",
    "            plt.figure(figsize=(18, 8))\n",
    "            plot_it(group['coll1'][f'{sample}_A'], A, t, label = 'coll1', color='blue', it = it);\n",
    "            plot_it(group['coll2'][f'{sample}_A'], A, t, label = 'coll2', color='red', it = it);\n",
    "            plot_it(group['coll3'][f'{sample}_A'], A, t, label = 'coll3', color='green', it = it);\n",
    "            plt.title(f'{sample} @ {A}nm', fontsize=25)\n",
    "\n",
    "        elif (A == None) and (B== None):\n",
    "            plt.figure(figsize=(18, 8))\n",
    "            plot_it(group['coll1'][f'{sample}'], '400', '0.5', label = 'coll1', color='blue', it = it);\n",
    "            plot_it(group['coll2'][f'{sample}'], '400', '0.5', label = 'coll2', color='red', it = it);\n",
    "            plot_it(group['coll3'][f'{sample}'], '400', '0.5', label = 'coll3', color='green', it = it);\n",
    "            plt.title(f'{sample}', fontsize=25)\n",
    "\n",
    "        #grid_it()\n",
    "        \n",
    "        return None"
   ]
  },
  {
   "cell_type": "markdown",
   "id": "bc513389-f705-4990-beec-148c14cff3f5",
   "metadata": {},
   "source": [
    "---\n",
    "\n",
    "# ZnO"
   ]
  },
  {
   "cell_type": "code",
   "execution_count": 43,
   "id": "f1156fb8-85f5-4415-b1c4-7865df9a6006",
   "metadata": {},
   "outputs": [
    {
     "data": {
      "application/vnd.jupyter.widget-view+json": {
       "model_id": "21fff7544b364558babdf35a31dfd5eb",
       "version_major": 2,
       "version_minor": 0
      },
      "text/plain": [
       "interactive(children=(Dropdown(description='Select sample: ', options=('ZnO_B3_500', 'ZnO_B3_501', 'ZnO_B3_502…"
      ]
     },
     "metadata": {},
     "output_type": "display_data"
    }
   ],
   "source": [
    "show_interactive(ZnO, ZnO_samples, A=None)"
   ]
  },
  {
   "cell_type": "markdown",
   "id": "d5bdb17b-3946-48f6-ab57-5c79e168bd1d",
   "metadata": {},
   "source": [
    "---\n",
    "\n",
    "# Lithium Fluoride"
   ]
  },
  {
   "cell_type": "code",
   "execution_count": 44,
   "id": "32981d96-4de0-4a3c-bb4b-8e579187cf2b",
   "metadata": {},
   "outputs": [
    {
     "data": {
      "application/vnd.jupyter.widget-view+json": {
       "model_id": "8a760dd7a0e34a3f90562419cec501a0",
       "version_major": 2,
       "version_minor": 0
      },
      "text/plain": [
       "interactive(children=(Dropdown(description='Select sample: ', options=('LiF_B1_131', 'LiF_B2_145', 'LiF_B2_157…"
      ]
     },
     "metadata": {},
     "output_type": "display_data"
    }
   ],
   "source": [
    "# irradiation group\n",
    "show_interactive(LiF_irrad, LiF_irrad_samples, '260', '435')"
   ]
  },
  {
   "cell_type": "code",
   "execution_count": 32,
   "id": "0d8273d6-a64c-4835-a0c9-91152603798f",
   "metadata": {},
   "outputs": [
    {
     "data": {
      "application/vnd.jupyter.widget-view+json": {
       "model_id": "8e2c186742e94e888a4a89205c9ae971",
       "version_major": 2,
       "version_minor": 0
      },
      "text/plain": [
       "interactive(children=(Dropdown(description='Select sample: ', options=('LiF_B1_130', 'LiF_B2_143', 'LiF_B2_155…"
      ]
     },
     "metadata": {},
     "output_type": "display_data"
    }
   ],
   "source": [
    "# control group\n",
    "show_interactive(LiF_ctrl, LiF_ctrl_samples, '260', '435')"
   ]
  },
  {
   "cell_type": "markdown",
   "id": "5205099f-5aa4-4121-8c33-78c958f7de8d",
   "metadata": {},
   "source": [
    "---\n",
    "\n",
    "#  Barium Fluoride"
   ]
  },
  {
   "cell_type": "code",
   "execution_count": 33,
   "id": "d8db12d1-fcfc-4b1c-b864-8fdc2d345d64",
   "metadata": {},
   "outputs": [
    {
     "data": {
      "application/vnd.jupyter.widget-view+json": {
       "model_id": "4782e1e88ec44dafb07102582f20253d",
       "version_major": 2,
       "version_minor": 0
      },
      "text/plain": [
       "interactive(children=(Dropdown(description='Select sample: ', options=('BaF_B2_181', 'BaF_B2_183', 'BaF_B2_185…"
      ]
     },
     "metadata": {},
     "output_type": "display_data"
    }
   ],
   "source": [
    "# irradiation group\n",
    "show_interactive(BaF_irrad, BaF_irrad_samples, '250', '320')"
   ]
  },
  {
   "cell_type": "code",
   "execution_count": 34,
   "id": "49cf5e4f-bc12-43ea-81e0-7d0db8fa07a4",
   "metadata": {},
   "outputs": [
    {
     "data": {
      "application/vnd.jupyter.widget-view+json": {
       "model_id": "69c2a559189c4852ad4784c75de31da1",
       "version_major": 2,
       "version_minor": 0
      },
      "text/plain": [
       "interactive(children=(Dropdown(description='Select sample: ', options=('BaF_B2_182', 'BaF_B2_188', 'BaF_B2_193…"
      ]
     },
     "metadata": {},
     "output_type": "display_data"
    }
   ],
   "source": [
    "# ctrl group\n",
    "show_interactive(BaF_ctrl, BaF_ctrl_samples, '250', '320')"
   ]
  },
  {
   "cell_type": "markdown",
   "id": "94e6f9fc-85d3-4a85-ba95-5d97b44658dd",
   "metadata": {},
   "source": [
    "---\n",
    "\n",
    "# Quartz"
   ]
  },
  {
   "cell_type": "code",
   "execution_count": 35,
   "id": "e6fe44cc-7801-430b-8a32-e9e80f6ea5a0",
   "metadata": {},
   "outputs": [
    {
     "data": {
      "application/vnd.jupyter.widget-view+json": {
       "model_id": "f7f0911854944881b9add3c6b61b5b7b",
       "version_major": 2,
       "version_minor": 0
      },
      "text/plain": [
       "interactive(children=(Dropdown(description='Select sample: ', options=('Qz_B2_063', 'Qz_B2_067', 'Qz_B2_069', …"
      ]
     },
     "metadata": {},
     "output_type": "display_data"
    }
   ],
   "source": [
    "# irradiation group\n",
    "show_interactive(Qz_irrad, Qz_irrad_samples, '250')"
   ]
  },
  {
   "cell_type": "code",
   "execution_count": 36,
   "id": "6b9e85c8-3d54-475c-ac7f-f507dd0ff427",
   "metadata": {},
   "outputs": [
    {
     "data": {
      "application/vnd.jupyter.widget-view+json": {
       "model_id": "5d5e3a8d696b4f668de0c6896767160a",
       "version_major": 2,
       "version_minor": 0
      },
      "text/plain": [
       "interactive(children=(Dropdown(description='Select sample: ', options=('Qz_B2_064', 'Qz_B2_064', 'Qz_B2_071'),…"
      ]
     },
     "metadata": {},
     "output_type": "display_data"
    }
   ],
   "source": [
    "# control group\n",
    "show_interactive(Qz_ctrl, Qz_ctrl_samples, '250')"
   ]
  },
  {
   "cell_type": "markdown",
   "id": "96429b19-5f7c-4eea-96f3-1e35747d3897",
   "metadata": {},
   "source": [
    "---\n",
    "\n",
    "# Sapphire"
   ]
  },
  {
   "cell_type": "code",
   "execution_count": 37,
   "id": "423748a3-44ac-46cb-8049-88951d375978",
   "metadata": {},
   "outputs": [
    {
     "data": {
      "application/vnd.jupyter.widget-view+json": {
       "model_id": "0aacebeb8e6d487f8e3cc687dada14b0",
       "version_major": 2,
       "version_minor": 0
      },
      "text/plain": [
       "interactive(children=(Dropdown(description='Select sample: ', options=('SP4500', 'SP4501', 'SP4502', 'SP4503')…"
      ]
     },
     "metadata": {},
     "output_type": "display_data"
    }
   ],
   "source": [
    "# irradiation group\n",
    "show_interactive(SP_irrad, SP_irrad_samples, '250')"
   ]
  },
  {
   "cell_type": "code",
   "execution_count": 38,
   "id": "eef93c9e-3b74-4000-8b94-2727ef190179",
   "metadata": {},
   "outputs": [
    {
     "data": {
      "application/vnd.jupyter.widget-view+json": {
       "model_id": "03874dc085a344c2a04f5f478d49ea19",
       "version_major": 2,
       "version_minor": 0
      },
      "text/plain": [
       "interactive(children=(Dropdown(description='Select sample: ', options=('SP4504',), value='SP4504'), Output()),…"
      ]
     },
     "metadata": {},
     "output_type": "display_data"
    }
   ],
   "source": [
    "# control group\n",
    "show_interactive(SP_ctrl, SP_ctrl_samples, '250')"
   ]
  },
  {
   "cell_type": "code",
   "execution_count": null,
   "id": "f0bec3a7-2f42-4dd7-8bac-e3c5aeb55da7",
   "metadata": {},
   "outputs": [],
   "source": []
  }
 ],
 "metadata": {
  "kernelspec": {
   "display_name": "Python 3 (ipykernel)",
   "language": "python",
   "name": "python3"
  },
  "language_info": {
   "codemirror_mode": {
    "name": "ipython",
    "version": 3
   },
   "file_extension": ".py",
   "mimetype": "text/x-python",
   "name": "python",
   "nbconvert_exporter": "python",
   "pygments_lexer": "ipython3",
   "version": "3.10.12"
  }
 },
 "nbformat": 4,
 "nbformat_minor": 5
}
