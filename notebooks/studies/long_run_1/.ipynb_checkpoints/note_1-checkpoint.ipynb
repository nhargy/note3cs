{
 "cells": [
  {
   "cell_type": "code",
   "execution_count": 1,
   "id": "947f09f6-f937-480d-8814-827ee29cf09c",
   "metadata": {},
   "outputs": [],
   "source": [
    "import h5py as h5\n",
    "import numpy as np\n",
    "import matplotlib.pyplot as plt"
   ]
  },
  {
   "cell_type": "code",
   "execution_count": 2,
   "id": "6f1eeada-6054-4d81-8cfb-9be0500deb7e",
   "metadata": {},
   "outputs": [],
   "source": [
    "path_to_repo   = '/home/hargy/Documents/3CS/repo_data3cs/data3cs'\n",
    "local_to_study = '/studies/long_run_1/coll1' "
   ]
  },
  {
   "cell_type": "code",
   "execution_count": null,
   "id": "48f662d1-367d-417c-b22a-171bcdc0cdae",
   "metadata": {},
   "outputs": [],
   "source": [
    "def get_n_plot(first, last):\n",
    "    \n",
    "    for i in range(firs, last):\n",
    "        \n",
    "        f = h5.File(f'{path_to_repo}{local_to_study}/LiF_B2_148_{i}.hdf5')\n",
    "        sp_data, bg_data, powers = f['spectra']['450']['0']['10.0sec']"
   ]
  }
 ],
 "metadata": {
  "kernelspec": {
   "display_name": "Python 3 (ipykernel)",
   "language": "python",
   "name": "python3"
  },
  "language_info": {
   "codemirror_mode": {
    "name": "ipython",
    "version": 3
   },
   "file_extension": ".py",
   "mimetype": "text/x-python",
   "name": "python",
   "nbconvert_exporter": "python",
   "pygments_lexer": "ipython3",
   "version": "3.10.6"
  }
 },
 "nbformat": 4,
 "nbformat_minor": 5
}
