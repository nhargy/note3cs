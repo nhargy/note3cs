{
 "cells": [
  {
   "cell_type": "code",
   "execution_count": 1,
   "id": "d1f43088-2182-44d1-9795-3f1eca6159f2",
   "metadata": {},
   "outputs": [],
   "source": [
    "from ipywidgets import interact, interactive, fixed, interact_manual\n",
    "import ipywidgets as widgets"
   ]
  },
  {
   "cell_type": "code",
   "execution_count": 7,
   "id": "78f2bfc8-1cf3-44c9-9bb4-3e1690838dff",
   "metadata": {},
   "outputs": [
    {
     "data": {
      "application/vnd.jupyter.widget-view+json": {
       "model_id": "2f2faf9109d0408599bcaaad8d3ec384",
       "version_major": 2,
       "version_minor": 0
      },
      "text/plain": [
       "interactive(children=(IntSlider(value=10, description='x', max=30, min=-10), Output()), _dom_classes=('widget-…"
      ]
     },
     "metadata": {},
     "output_type": "display_data"
    }
   ],
   "source": [
    "def f(x):\n",
    "    return x\n",
    "\n",
    "interact(f, x=10);"
   ]
  },
  {
   "cell_type": "code",
   "execution_count": 10,
   "id": "de9454f8-c9b2-416e-b723-1a03860bf444",
   "metadata": {},
   "outputs": [
    {
     "data": {
      "application/vnd.jupyter.widget-view+json": {
       "model_id": "13c20ad8c4ac4935b7bd3f8e062e50b8",
       "version_major": 2,
       "version_minor": 0
      },
      "text/plain": [
       "interactive(children=(Dropdown(description='Select an option:', options=('Option 1', 'Option 2', 'Option 3'), …"
      ]
     },
     "metadata": {},
     "output_type": "display_data"
    }
   ],
   "source": [
    "import ipywidgets as widgets\n",
    "from ipywidgets import interact\n",
    "\n",
    "# Create a dropdown widget with some options\n",
    "dropdown_options = ['Option 1', 'Option 2', 'Option 3']\n",
    "\n",
    "dropdown = widgets.Dropdown(\n",
    "    options=dropdown_options,\n",
    "    description='Select an option:',\n",
    ")\n",
    "\n",
    "# Create an interactive widget using the interact function\n",
    "@interact(selected_option=dropdown)\n",
    "def show_selected_option(selected_option):\n",
    "    print(f\"Selected option: {selected_option}\")\n"
   ]
  },
  {
   "cell_type": "code",
   "execution_count": null,
   "id": "eddd8e8d-93f8-4a52-ab03-03b1eb48d73c",
   "metadata": {},
   "outputs": [],
   "source": []
  }
 ],
 "metadata": {
  "kernelspec": {
   "display_name": "Python 3 (ipykernel)",
   "language": "python",
   "name": "python3"
  },
  "language_info": {
   "codemirror_mode": {
    "name": "ipython",
    "version": 3
   },
   "file_extension": ".py",
   "mimetype": "text/x-python",
   "name": "python",
   "nbconvert_exporter": "python",
   "pygments_lexer": "ipython3",
   "version": "3.10.12"
  }
 },
 "nbformat": 4,
 "nbformat_minor": 5
}
